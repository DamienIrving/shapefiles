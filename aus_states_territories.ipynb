{
 "cells": [
  {
   "cell_type": "markdown",
   "id": "d7196425",
   "metadata": {},
   "source": [
    "## States and territories of Australia\n",
    "\n",
    "This notebook gives a basic demonstration of the shapefiles found at:  \n",
    "`/g/data/ia39/aus-ref-clim-data-nci/shapefiles/shapefiles/shapefiles_states_territories/`\n",
    "\n",
    "The Australian Bureau of Statistics (ABS) maintains the Australian Statistical Geography Standard (ASGS).\n",
    "The latest release is\n",
    "[Edition 3](https://www.abs.gov.au/statistics/standards/australian-statistical-geography-standard-asgs-edition-3),\n",
    "which includes a \"States and Territories - 2021 - Shapefile\" that can be downloaded\n",
    "[here](https://www.abs.gov.au/statistics/standards/australian-statistical-geography-standard-asgs-edition-3/jul2021-jun2026/access-and-downloads/digital-boundary-files).\n",
    "\n",
    "In order to produce the shapefiles demonstrated below,\n",
    "the `processing_scripts/process_states_territories.py` script applies some minor changes\n",
    "(it removes some redundant rows and columns) to the original ABS shapefiles."
   ]
  },
  {
   "cell_type": "code",
   "execution_count": 1,
   "id": "24678edd",
   "metadata": {},
   "outputs": [],
   "source": [
    "import geopandas as gp\n",
    "import matplotlib.pyplot as plt"
   ]
  },
  {
   "cell_type": "code",
   "execution_count": 2,
   "id": "79cbf8a7",
   "metadata": {},
   "outputs": [],
   "source": [
    "gdf = gp.read_file('shapefiles_states_territories/aus_states_territories.shp')"
   ]
  },
  {
   "cell_type": "code",
   "execution_count": 3,
   "id": "e82650f1",
   "metadata": {},
   "outputs": [
    {
     "data": {
      "text/html": [
       "<div>\n",
       "<style scoped>\n",
       "    .dataframe tbody tr th:only-of-type {\n",
       "        vertical-align: middle;\n",
       "    }\n",
       "\n",
       "    .dataframe tbody tr th {\n",
       "        vertical-align: top;\n",
       "    }\n",
       "\n",
       "    .dataframe thead th {\n",
       "        text-align: right;\n",
       "    }\n",
       "</style>\n",
       "<table border=\"1\" class=\"dataframe\">\n",
       "  <thead>\n",
       "    <tr style=\"text-align: right;\">\n",
       "      <th></th>\n",
       "      <th>STE_NAME21</th>\n",
       "      <th>AREASQKM21</th>\n",
       "      <th>LOCI_URI21</th>\n",
       "      <th>geometry</th>\n",
       "    </tr>\n",
       "  </thead>\n",
       "  <tbody>\n",
       "    <tr>\n",
       "      <th>0</th>\n",
       "      <td>New South Wales</td>\n",
       "      <td>8.007977e+05</td>\n",
       "      <td>http://linked.data.gov.au/dataset/asgsed3/STE/1</td>\n",
       "      <td>MULTIPOLYGON (((159.06230 -31.50886, 159.06218...</td>\n",
       "    </tr>\n",
       "    <tr>\n",
       "      <th>1</th>\n",
       "      <td>Victoria</td>\n",
       "      <td>2.274962e+05</td>\n",
       "      <td>http://linked.data.gov.au/dataset/asgsed3/STE/2</td>\n",
       "      <td>MULTIPOLYGON (((146.29286 -39.15778, 146.29341...</td>\n",
       "    </tr>\n",
       "    <tr>\n",
       "      <th>2</th>\n",
       "      <td>Queensland</td>\n",
       "      <td>1.730171e+06</td>\n",
       "      <td>http://linked.data.gov.au/dataset/asgsed3/STE/3</td>\n",
       "      <td>MULTIPOLYGON (((142.53140 -10.68301, 142.53072...</td>\n",
       "    </tr>\n",
       "    <tr>\n",
       "      <th>3</th>\n",
       "      <td>South Australia</td>\n",
       "      <td>9.842314e+05</td>\n",
       "      <td>http://linked.data.gov.au/dataset/asgsed3/STE/4</td>\n",
       "      <td>MULTIPOLYGON (((140.66025 -38.06256, 140.66006...</td>\n",
       "    </tr>\n",
       "    <tr>\n",
       "      <th>4</th>\n",
       "      <td>Western Australia</td>\n",
       "      <td>2.526632e+06</td>\n",
       "      <td>http://linked.data.gov.au/dataset/asgsed3/STE/5</td>\n",
       "      <td>MULTIPOLYGON (((117.86953 -35.19108, 117.86961...</td>\n",
       "    </tr>\n",
       "    <tr>\n",
       "      <th>5</th>\n",
       "      <td>Tasmania</td>\n",
       "      <td>6.801754e+04</td>\n",
       "      <td>http://linked.data.gov.au/dataset/asgsed3/STE/6</td>\n",
       "      <td>MULTIPOLYGON (((144.60439 -41.01001, 144.60443...</td>\n",
       "    </tr>\n",
       "    <tr>\n",
       "      <th>6</th>\n",
       "      <td>Northern Territory</td>\n",
       "      <td>1.348134e+06</td>\n",
       "      <td>http://linked.data.gov.au/dataset/asgsed3/STE/7</td>\n",
       "      <td>MULTIPOLYGON (((133.02818 -10.90839, 133.02982...</td>\n",
       "    </tr>\n",
       "    <tr>\n",
       "      <th>7</th>\n",
       "      <td>Australian Capital Territory</td>\n",
       "      <td>2.358133e+03</td>\n",
       "      <td>http://linked.data.gov.au/dataset/asgsed3/STE/8</td>\n",
       "      <td>POLYGON ((149.06239 -35.15910, 149.09134 -35.1...</td>\n",
       "    </tr>\n",
       "    <tr>\n",
       "      <th>8</th>\n",
       "      <td>Other Territories</td>\n",
       "      <td>2.557420e+02</td>\n",
       "      <td>http://linked.data.gov.au/dataset/asgsed3/STE/9</td>\n",
       "      <td>MULTIPOLYGON (((167.94747 -29.12757, 167.94748...</td>\n",
       "    </tr>\n",
       "  </tbody>\n",
       "</table>\n",
       "</div>"
      ],
      "text/plain": [
       "                     STE_NAME21    AREASQKM21  \\\n",
       "0               New South Wales  8.007977e+05   \n",
       "1                      Victoria  2.274962e+05   \n",
       "2                    Queensland  1.730171e+06   \n",
       "3               South Australia  9.842314e+05   \n",
       "4             Western Australia  2.526632e+06   \n",
       "5                      Tasmania  6.801754e+04   \n",
       "6            Northern Territory  1.348134e+06   \n",
       "7  Australian Capital Territory  2.358133e+03   \n",
       "8             Other Territories  2.557420e+02   \n",
       "\n",
       "                                        LOCI_URI21  \\\n",
       "0  http://linked.data.gov.au/dataset/asgsed3/STE/1   \n",
       "1  http://linked.data.gov.au/dataset/asgsed3/STE/2   \n",
       "2  http://linked.data.gov.au/dataset/asgsed3/STE/3   \n",
       "3  http://linked.data.gov.au/dataset/asgsed3/STE/4   \n",
       "4  http://linked.data.gov.au/dataset/asgsed3/STE/5   \n",
       "5  http://linked.data.gov.au/dataset/asgsed3/STE/6   \n",
       "6  http://linked.data.gov.au/dataset/asgsed3/STE/7   \n",
       "7  http://linked.data.gov.au/dataset/asgsed3/STE/8   \n",
       "8  http://linked.data.gov.au/dataset/asgsed3/STE/9   \n",
       "\n",
       "                                            geometry  \n",
       "0  MULTIPOLYGON (((159.06230 -31.50886, 159.06218...  \n",
       "1  MULTIPOLYGON (((146.29286 -39.15778, 146.29341...  \n",
       "2  MULTIPOLYGON (((142.53140 -10.68301, 142.53072...  \n",
       "3  MULTIPOLYGON (((140.66025 -38.06256, 140.66006...  \n",
       "4  MULTIPOLYGON (((117.86953 -35.19108, 117.86961...  \n",
       "5  MULTIPOLYGON (((144.60439 -41.01001, 144.60443...  \n",
       "6  MULTIPOLYGON (((133.02818 -10.90839, 133.02982...  \n",
       "7  POLYGON ((149.06239 -35.15910, 149.09134 -35.1...  \n",
       "8  MULTIPOLYGON (((167.94747 -29.12757, 167.94748...  "
      ]
     },
     "execution_count": 3,
     "metadata": {},
     "output_type": "execute_result"
    }
   ],
   "source": [
    "gdf"
   ]
  },
  {
   "cell_type": "markdown",
   "id": "afe5b8fc",
   "metadata": {},
   "source": [
    "Note: For relatively coarse spatial resolution datasets it can be necessary to drop row 8 (Other Territories) and even row 7 (ACT) because the there are no grid cells whose centre falls within those shapes (which can cause an error with some spatial aggregation routines).\n",
    "\n",
    "```python\n",
    "gdf = gdf.drop([7, 8])\n",
    "```"
   ]
  },
  {
   "cell_type": "code",
   "execution_count": 4,
   "id": "f036a4f3",
   "metadata": {},
   "outputs": [
    {
     "data": {
      "image/png": "[encoded data removed]",
      "text/plain": [
       "<Figure size 360x360 with 1 Axes>"
      ]
     },
     "metadata": {
      "needs_background": "light"
     },
     "output_type": "display_data"
    }
   ],
   "source": [
    "gdf.plot(\n",
    "    figsize=[5, 5],\n",
    "    column='STE_NAME21',\n",
    "    cmap='tab10',\n",
    "    legend=True,\n",
    "    linewidth=0.5,\n",
    "    edgecolor='black',\n",
    "    legend_kwds={'loc': 'right', 'bbox_to_anchor': (1.7, 0.5)},\n",
    ")\n",
    "plt.xlabel('Longitude')\n",
    "plt.ylabel('Latitude')\n",
    "plt.show()"
   ]
  },
  {
   "cell_type": "code",
   "execution_count": null,
   "id": "c3ecba46",
   "metadata": {},
   "outputs": [],
   "source": []
  }
 ],
 "metadata": {
  "kernelspec": {
   "display_name": "Python 3",
   "language": "python",
   "name": "python3"
  },
  "language_info": {
   "codemirror_mode": {
    "name": "ipython",
    "version": 3
   },
   "file_extension": ".py",
   "mimetype": "text/x-python",
   "name": "python",
   "nbconvert_exporter": "python",
   "pygments_lexer": "ipython3",
   "version": "3.9.4"
  }
 },
 "nbformat": 4,
 "nbformat_minor": 5
}
